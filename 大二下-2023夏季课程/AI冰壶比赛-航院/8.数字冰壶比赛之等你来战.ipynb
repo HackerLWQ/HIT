{
 "cells": [
  {
   "cell_type": "markdown",
   "id": "c18fe3fa-9723-4076-9a59-9924aa90fb5d",
   "metadata": {},
   "source": [
    "# 第八课 数字冰壶比赛之等你来战\n",
    "\n",
    "经过前面七课的学习，我们已经可以编写自己的AI选手了。不管是基于策略逻辑，还是基于强化学习模型，这个AI选手都可以和课程平台启动的数字冰壶服务器按照约定协议进行通讯、处理接收到的消息、基于策略逻辑或者模型推理生成投壶命令，最终和对手完成一场数字冰壶比赛。\n",
    "\n",
    "这些编写好的AI选手，还需要再做一些后期的工作，才能在官网进行提交。"
   ]
  },
  {
   "cell_type": "markdown",
   "id": "12d25b46-87f5-4f1a-af04-1b73063d5e4c",
   "metadata": {},
   "source": [
    "## 8.1 为AI选手提供参数调用支持\n",
    "\n",
    "在第二课中讲到，课程平台启动的数字冰壶服务器IP固定为“192.168.5.76”，端口固定为7788。但在实际的对战过程中，为了同时进行多场比赛，就需要同时启动多个服务器，每个服务器有着不同的IP或者不同的端口。因此提交到官网的AI选手需要支持带参数调用。\n",
    "\n",
    "对于具体参数官网规定，<b>服务器IP通过“-H”或者“--host”传入，端口通过“-p”或者“--port”传入。</b>\n",
    "\n",
    "下面以AIRobot.py为例，说明如何为AI选手提供参数调用支持。\n",
    "\n",
    "首先，代码中AIRobot类的初始化函数要支持host和port参数。如下所示范例代码中导入了argparse模块，这是Python内置的用于命令项选项与参数解析的模块。\n",
    "\n",
    "> 下方只是范例代码的一部分，无法单独运行，因此请不要尝试运行下方单元。"
   ]
  },
  {
   "cell_type": "raw",
   "id": "607a40b0-997b-49d9-920b-744052a0e602",
   "metadata": {},
   "source": [
    "import socket\n",
    "import time\n",
    "import math\n",
    "import argparse\n",
    "\n",
    "class AIRobot():\n",
    "    def __init__(self, key, name=\"CurlingAI\", host='192.168.5.76', port=7788, show_msg=False):\n",
    "        #新建Socket对象\n",
    "        self.ai_sock = socket.socket()\n",
    "        #创建Socket连接\n",
    "        self.ai_sock.connect((host,port))\n",
    "        print(\"已建立socket连接\", host, port)\n",
    "……"
   ]
  },
  {
   "cell_type": "markdown",
   "id": "564b51a8-057d-439c-a314-6bb87f813e9c",
   "metadata": {},
   "source": [
    "其次，代码中主函数部分要支持host和port参数。如下所示范例代码实现了从传入的参数中解析出服务器IP和端口，并且在初始化AIRobot类的时候传递这些参数。\n",
    "\n",
    "> 下方只是范例代码的一部分，无法单独运行，因此请不要尝试运行下方单元。"
   ]
  },
  {
   "cell_type": "raw",
   "id": "78f1528d-95ad-41f6-8764-7ddb147d5c95",
   "metadata": {},
   "source": [
    "if __name__ == '__main__':\n",
    "    parser = argparse.ArgumentParser(description='AIRobot')\n",
    "    parser.add_argument('-H','--host', help='tcp server host', default='192.168.5.76', required=False)\n",
    "    parser.add_argument('-p','--port', help='tcp server port', default=7788, required=False)\n",
    "    args, unknown = parser.parse_known_args()\n",
    "    print(args)\n",
    "\n",
    "    #根据数字冰壶服务器界面中给出的连接信息修改CONNECTKEY，注意这个数据每次启动都会改变。\n",
    "    key = \"lidandan_0fd99bfd-8fd7-4d36-8250-3d83f1367b0\"\n",
    "    #初始化AI选手\n",
    "    airobot = AIRobot(key, host=args.host, port=int(args.port))\n",
    "    #启动AI选手处理和服务器的通讯\n",
    "    airobot.recv_forever()"
   ]
  },
  {
   "cell_type": "markdown",
   "id": "bc92dc1b-e001-40f8-a38d-99bc73ef18d8",
   "metadata": {},
   "source": [
    "请参考以上范例对在课程平台中编写的AI选手进行修改。\n",
    "\n",
    "在前面的课程中，讲解了如何用Jupyter平台提供的Console模式运行Python脚本，但该模式并不支持带参数运行。为了测试修改后的AI选手是否能够正确支持参数调用，可以在运行下方单元进行测试。"
   ]
  },
  {
   "cell_type": "code",
   "execution_count": null,
   "id": "b5f7a584-4ac9-40a4-a079-46191fd8fbb2",
   "metadata": {},
   "outputs": [],
   "source": [
    "!python3 AIRobot.py -H 192.168.5.76 -p 7788"
   ]
  },
  {
   "cell_type": "markdown",
   "id": "3f6936e0-9282-46d6-87d5-7701f035e105",
   "metadata": {},
   "source": [
    "如果运行结果的第一行如下所示：\n",
    "\n",
    "    Namespace(host='192.168.5.76', port='7788')\n",
    "\n",
    "则说明该Python脚本已经支持参数调用了。"
   ]
  },
  {
   "cell_type": "markdown",
   "id": "1442cbac-9e33-49d7-8654-76912998e87d",
   "metadata": {},
   "source": [
    "## 8.2 将AI选手全部相关代码拷贝到课程平台根目录\n",
    "\n",
    "在当前课程页面左侧的文件浏览器中，可以看到课程文件是在课程平台的readme目录下，如果想要提交AI选手，就需要<b>将该AI选手所有相关文件都拷贝到课程平台根目录</b>。\n",
    "\n",
    "比如说如果想要提交AIRobot.py这个AI选手，就需要在文件浏览器里右键点击该文件选择“Copy”，再在文件浏览器中切换到根目录，右键点击空白处选择“Paste”，即可将AIRobot.py这个文件拷贝到课程平台根目录下。如下图所示。\n",
    "\n",
    "<center><img src=\"img/CopyPaste.png\"></center>\n",
    "\n",
    "但如果想提交的是还有其他文件调用关系的AI选手，比如说需要载入模型的强化学习AI选手，就需要将调用的模型文件和日志文件等都一起拷贝到课程平台根目录下。\n",
    "\n",
    "> 注意如果模型文件或日志文件和AI选手主文件的路径关系有变化，还要在主文件代码中更改相关的文件路径。"
   ]
  },
  {
   "cell_type": "markdown",
   "id": "589f3f7d-6425-4d07-bb44-283bda8865a5",
   "metadata": {},
   "source": [
    "## 8.3 在官网个人中心提交/上传AI选手\n",
    "\n",
    "当且仅当AI选手全部相关代码拷贝到课程平台根目录后，在官网【个人中心】页面的【比赛策略】栏目下，点击【提交策略】，即可在弹出的窗口中通过下拉框选择AI选手的主文件。如下图所示。\n",
    "\n",
    "<center><img src=\"img/CommitAI.png\"></center>\n",
    "\n",
    "点击【确定】按钮，即会自动将课程平台根目录下<b>除了readme目录之外</b>的所有文件打包为zip文件并上传到对战服务器，成为对战备选的AI选手。\n",
    "\n",
    "> 如果模型较大的话，打包提交时间也会较长，请耐心等待。\n",
    "\n",
    "【提交策略】仅支持在课程平台使用Python语言编写的AI选手。对于在其他机器（比如说参赛团队成员的个人电脑）上使用Python语言编写的AI选手，可以上传到课程平台根目录，测试可用后，通过【提交策略】的方式提交。\n",
    "\n",
    "> 在个人电脑上使用Python语言编写AI选手时，需要注意对战平台和课程平台仅支持torch、numpy和matplotlib这几个第三方运行库。\n",
    "\n",
    "除了Python语言编写的AI选手，对战平台也支持C++语言编写的AI选手，具体需要将C++代码编译为windows平台下可执行的exe文件（文件名必须为CurlingAI.exe），和所有支持文件打包为zip文件后，通过【上传AI模型】的渠道上传。\n",
    "\n",
    "> 如何在个人电脑上使用C++语言编写AI选手呢？这个问题并不在本课程平台的教学范围内，可以在官网的【资源下载】页面下载范例代码做为参考。"
   ]
  },
  {
   "cell_type": "markdown",
   "id": "7795fb60-d3f6-429d-9980-b8e57b30cf8f",
   "metadata": {},
   "source": [
    "## 8.4 在官网个人中心发起对战\n",
    "\n",
    "官网【个人中心】的【比赛策略】栏目下最多可以提交/上传两个AI选手，首次提交/上传的AI选手默认就是参赛选手，后上传的AI选手可以通过点击【设为参赛程序】设定为参赛选手。如下图所示。\n",
    "\n",
    "<center><img src=\"img/IvsI.png\"></center>\n",
    "\n",
    "提交/上传AI选手后，如上图所示，在模型表格中点击【发起对战】就会预约一场自家两个AI选手的内部比赛。如果只上传了一个AI选手，点击【发起对战】预约的比赛就是该选手的“左右互博”。\n",
    "\n",
    "在【团队列表】栏目下，还可以点击【申请对战】邀请其他团队进行比赛。\n",
    "\n",
    "<center><img src=\"img/IvsO.png\"></center>\n",
    "\n",
    "邀请其他团队比赛后，发出邀请的团队可以在【对战列表】栏目的【挑战列表】中看到该邀请信息。而被邀请的团队也可以在【对战列表】栏目的【应邀列表】中看到邀请信息，选择接受或者拒绝。接受邀请就会为双方的参赛选手预约一场比赛。\n",
    "\n",
    "在【对战记录】栏目，可以看到已预约比赛的进行情况。对于失败的比赛，可以点击【更多信息】查看失败原因，点击【查看日志】查看比赛过程中程序输出的文本。对于已完成的比赛，还可以点击【对战录像】查看比赛过程的回放录像。如下图所示。\n",
    "\n",
    "<center><img src=\"img/BattleRecord.png\"></center>\n",
    "\n",
    "类似地，在模拟赛、小组赛、半决赛和决赛之后，也可以在【赛程列表】栏目中点击【查看日志】查看比赛过程中程序输出的文本，点击【对战录像】查看比赛过程的回放录像。\n",
    "\n",
    "<center><img src=\"img/ScheduleList.png\"></center>"
   ]
  },
  {
   "cell_type": "markdown",
   "id": "90a8630f-fd85-4add-8c84-ad9db3c0ad4b",
   "metadata": {},
   "source": [
    "## 小结\n",
    "\n",
    "本课介绍了如何为AI选手提供参数调用支持、在官网个人中心提交/上传AI选手以及如何发起对战，帮助参赛团队们完成了参加数字冰壶比赛的最后一步。\n",
    "\n",
    "这个教程陆陆续续写了两个月，今天终于写到最后一课的小结。而在看这篇课程的你，可能也从一个并不了解数字冰壶比赛的入门者，成长为了一个可以用自己的智慧与谋略指挥AI选手作战的指挥官。希望在课程学习过程能让大家有所收获，就是笔者做为一名老师最欣慰的事情啦！\n",
    "\n",
    "纸上学来终觉浅，须知此事要躬行。要想在比赛中获得更好的成绩，大家还是要多努力呀！加油~~~~\n",
    "\n",
    "｡:.ﾟヽ(｡◕‿◕｡)ﾉﾟ.:｡+ﾟ"
   ]
  }
 ],
 "metadata": {
  "kernelspec": {
   "display_name": "Python 3 (ipykernel)",
   "language": "python",
   "name": "python3"
  },
  "language_info": {
   "codemirror_mode": {
    "name": "ipython",
    "version": 3
   },
   "file_extension": ".py",
   "mimetype": "text/x-python",
   "name": "python",
   "nbconvert_exporter": "python",
   "pygments_lexer": "ipython3",
   "version": "3.9.14"
  }
 },
 "nbformat": 4,
 "nbformat_minor": 5
}
